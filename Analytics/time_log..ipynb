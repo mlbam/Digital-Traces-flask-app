{
 "cells": [
  {
   "cell_type": "code",
   "execution_count": 32,
   "metadata": {},
   "outputs": [],
   "source": [
    "# count the number of words in t8.shakespeare.txt using a dictionary\n",
    "def count_dict(filename):\n",
    "    \"\"\"Count the number of words in a file using a dictionary\"\"\"\n",
    "    word_count = {}\n",
    "    with open(filename, 'r') as f:\n",
    "        for line in f:\n",
    "            for word in line.split():\n",
    "                if word in word_count:\n",
    "                    word_count[word] += 1\n",
    "                else:\n",
    "                    word_count[word] = 1\n",
    "    return word_count\n"
   ]
  },
  {
   "cell_type": "code",
   "execution_count": 33,
   "metadata": {},
   "outputs": [],
   "source": [
    "# apply the function to t8.shakespeare.txt\n",
    "word_count = count_dict('t8.shakespeare.txt')"
   ]
  },
  {
   "cell_type": "code",
   "execution_count": 41,
   "metadata": {},
   "outputs": [
    {
     "name": "stdout",
     "output_type": "stream",
     "text": [
      "[('the', 23242), ('I', 19540), ('and', 18297), ('to', 15623), ('of', 15544), ('a', 12532), ('my', 10824), ('in', 9576), ('you', 9081), ('is', 7851)]\n"
     ]
    }
   ],
   "source": [
    "# 10 most common words\n",
    "most_common = sorted(word_count.items(), key=lambda x: x[1], reverse=True)[:10]\n",
    "print(most_common)"
   ]
  },
  {
   "cell_type": "code",
   "execution_count": 35,
   "metadata": {},
   "outputs": [
    {
     "name": "stdout",
     "output_type": "stream",
     "text": [
      "[('the', 23242), ('I', 19540), ('and', 18297), ('to', 15623), ('of', 15544), ('a', 12532), ('my', 10824), ('in', 9576), ('you', 9081), ('is', 7851)]\n"
     ]
    }
   ],
   "source": [
    "from collections import Counter\n",
    "\n",
    "def count_words(filename):\n",
    "    # Open the file and read it into a list of lines\n",
    "    with open(filename, 'r') as f:\n",
    "        lines = f.readlines()\n",
    "    # Join the lines into a single string\n",
    "    text = ' '.join(lines)\n",
    "    # Split the string into a list of words\n",
    "    words = text.split()\n",
    "    # Create a Counter object and count the occurrences of each word\n",
    "    counter = Counter(words)\n",
    "    # Return the counter\n",
    "    return counter\n",
    "\n",
    "# Example usage\n",
    "counter = count_words('t8.shakespeare.txt')\n",
    "print(counter.most_common(10))\n"
   ]
  },
  {
   "attachments": {},
   "cell_type": "markdown",
   "metadata": {},
   "source": [
    "## Execution time"
   ]
  },
  {
   "cell_type": "code",
   "execution_count": 37,
   "metadata": {},
   "outputs": [
    {
     "name": "stdout",
     "output_type": "stream",
     "text": [
      "434 ms ± 22.2 ms per loop (mean ± std. dev. of 7 runs, 1 loop each)\n",
      "329 ms ± 9.19 ms per loop (mean ± std. dev. of 7 runs, 1 loop each)\n"
     ]
    }
   ],
   "source": [
    "# compare the two methods\n",
    "%timeit count_dict('t8.shakespeare.txt')\n",
    "%timeit count_words('t8.shakespeare.txt')\n"
   ]
  },
  {
   "cell_type": "code",
   "execution_count": 38,
   "metadata": {},
   "outputs": [
    {
     "data": {
      "image/png": "[encoded data removed]",
      "text/plain": [
       "<Figure size 432x288 with 1 Axes>"
      ]
     },
     "metadata": {
      "needs_background": "light"
     },
     "output_type": "display_data"
    }
   ],
   "source": [
    "# run this experiment 100 times and plot the two distributions of execution times.\n",
    "import timeit\n",
    "import numpy as np\n",
    "import matplotlib.pyplot as plt\n",
    "\n",
    "def timeit_dict():\n",
    "    count_dict('t8.shakespeare.txt')\n",
    "\n",
    "def timeit_counter():\n",
    "    count_words('t8.shakespeare.txt')\n",
    "\n",
    "dict_times = np.array(timeit.repeat(timeit_dict, repeat=100, number=1))\n",
    "counter_times = np.array(timeit.repeat(timeit_counter, repeat=100, number=1))\n",
    "\n",
    "plt.hist(dict_times, bins=20, alpha=0.5, label='dict')\n",
    "plt.hist(counter_times, bins=20, alpha=0.5, label='Counter')\n",
    "plt.legend(loc='upper right')\n",
    "\n",
    "plt.xlabel('time (s)')\n",
    "plt.ylabel('frequency')\n",
    "\n",
    "plt.title('Execution times for count_dict and count_counter')\n",
    "plt.show()\n",
    "\n"
   ]
  },
  {
   "cell_type": "code",
   "execution_count": 39,
   "metadata": {},
   "outputs": [
    {
     "name": "stdout",
     "output_type": "stream",
     "text": [
      "dict: mean = 0.413, std = 0.014\n",
      "counter: mean = 0.328, std = 0.006\n"
     ]
    }
   ],
   "source": [
    "# compute the mean and standard deviation of the two distributions\n",
    "print('dict: mean = {:.3f}, std = {:.3f}'.format(dict_times.mean(), dict_times.std()))\n",
    "print('counter: mean = {:.3f}, std = {:.3f}'.format(counter_times.mean(), counter_times.std()))\n"
   ]
  }
 ],
 "metadata": {
  "kernelspec": {
   "display_name": "Python 3",
   "language": "python",
   "name": "python3"
  },
  "language_info": {
   "codemirror_mode": {
    "name": "ipython",
    "version": 3
   },
   "file_extension": ".py",
   "mimetype": "text/x-python",
   "name": "python",
   "nbconvert_exporter": "python",
   "pygments_lexer": "ipython3",
   "version": "3.9.7 (default, Sep 16 2021, 16:59:28) [MSC v.1916 64 bit (AMD64)]"
  },
  "orig_nbformat": 4,
  "vscode": {
   "interpreter": {
    "hash": "9ba51fe35a600835c24782006995f412ec21c9c261a7cca32def3027e3f68cc7"
   }
  }
 },
 "nbformat": 4,
 "nbformat_minor": 2
}
